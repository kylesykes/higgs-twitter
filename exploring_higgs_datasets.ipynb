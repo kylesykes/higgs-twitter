{
 "cells": [
  {
   "cell_type": "markdown",
   "metadata": {},
   "source": [
    "# Download the data"
   ]
  },
  {
   "cell_type": "code",
   "execution_count": 24,
   "metadata": {},
   "outputs": [],
   "source": [
    "import requests"
   ]
  },
  {
   "cell_type": "code",
   "execution_count": 26,
   "metadata": {},
   "outputs": [],
   "source": [
    "activity_url = r'http://snap.stanford.edu/data/higgs-activity_time.txt.gz'\n",
    "social_network_url = r'http://snap.stanford.edu/data/higgs-social_network.edgelist.gz'"
   ]
  },
  {
   "cell_type": "code",
   "execution_count": 27,
   "metadata": {},
   "outputs": [],
   "source": [
    "from gzip import GzipFile\n",
    "from io import BytesIO\n",
    "\n",
    "# download the higgs-activity_time set\n",
    "with open('data/higgs-activity_time.txt', 'wb') as f:\n",
    "    r = requests.get(activity_url)\n",
    "\n",
    "    gzipped = BytesIO()\n",
    "    gzipped.write(r.content)\n",
    "    gzipped.seek(0)\n",
    "\n",
    "    raw_file = GzipFile(fileobj=gzipped, mode='rb')\n",
    "    f.write(raw_file.read())\n",
    "    \n",
    "# download the higgs-social_network set\n",
    "with open('data/social_network.edgelist', 'wb') as f:\n",
    "    r = requests.get(social_network_url)\n",
    "\n",
    "    gzipped = BytesIO()\n",
    "    gzipped.write(r.content)\n",
    "    gzipped.seek(0)\n",
    "\n",
    "    raw_file = GzipFile(fileobj=gzipped, mode='rb')\n",
    "    f.write(raw_file.read())"
   ]
  },
  {
   "cell_type": "markdown",
   "metadata": {},
   "source": [
    "# Read in files to python structures"
   ]
  },
  {
   "cell_type": "code",
   "execution_count": 30,
   "metadata": {},
   "outputs": [],
   "source": [
    "import networkx as nx\n",
    "\n",
    "G = nx.DiGraph()"
   ]
  },
  {
   "cell_type": "code",
   "execution_count": null,
   "metadata": {},
   "outputs": [],
   "source": []
  }
 ],
 "metadata": {
  "kernelspec": {
   "display_name": "Python 3",
   "language": "python",
   "name": "python3"
  },
  "language_info": {
   "codemirror_mode": {
    "name": "ipython",
    "version": 3
   },
   "file_extension": ".py",
   "mimetype": "text/x-python",
   "name": "python",
   "nbconvert_exporter": "python",
   "pygments_lexer": "ipython3",
   "version": "3.6.6"
  }
 },
 "nbformat": 4,
 "nbformat_minor": 2
}

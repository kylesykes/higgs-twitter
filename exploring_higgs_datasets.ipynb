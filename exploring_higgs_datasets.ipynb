{
 "cells": [
  {
   "cell_type": "markdown",
   "metadata": {},
   "source": [
    "# Download the data"
   ]
  },
  {
   "cell_type": "code",
   "execution_count": 31,
   "metadata": {},
   "outputs": [],
   "source": [
    "import requests\n",
    "from gzip import GzipFile\n",
    "from io import BytesIO\n",
    "\n",
    "activity_url = r'http://snap.stanford.edu/data/higgs-activity_time.txt.gz'\n",
    "social_network_url = r'http://snap.stanford.edu/data/higgs-social_network.edgelist.gz'\n",
    "activity_data_path = r'data/higgs-activity_time.txt'\n",
    "social_network_path = r'data/social_network.edgelist'\n",
    "\n",
    "\n",
    "# download the higgs-activity_time set\n",
    "with open(activity_data_path, 'wb') as f:\n",
    "    r = requests.get(activity_url)\n",
    "\n",
    "    gzipped = BytesIO()\n",
    "    gzipped.write(r.content)\n",
    "    gzipped.seek(0)\n",
    "\n",
    "    raw_file = GzipFile(fileobj=gzipped, mode='rb')\n",
    "    f.write(raw_file.read())\n",
    "    \n",
    "# download the higgs-social_network set\n",
    "with open(social_network_path, 'wb') as f:\n",
    "    r = requests.get(social_network_url)\n",
    "\n",
    "    gzipped = BytesIO()\n",
    "    gzipped.write(r.content)\n",
    "    gzipped.seek(0)\n",
    "\n",
    "    raw_file = GzipFile(fileobj=gzipped, mode='rb')\n",
    "    f.write(raw_file.read())"
   ]
  },
  {
   "cell_type": "markdown",
   "metadata": {},
   "source": [
    "# Read in files to create graphs"
   ]
  },
  {
   "cell_type": "markdown",
   "metadata": {},
   "source": [
    "### Create followers graph"
   ]
  },
  {
   "cell_type": "code",
   "execution_count": 49,
   "metadata": {},
   "outputs": [],
   "source": [
    "import networkx as nx\n",
    "\n",
    "G_followers = nx.DiGraph()"
   ]
  },
  {
   "cell_type": "code",
   "execution_count": 47,
   "metadata": {},
   "outputs": [],
   "source": [
    "with open(social_network_path, 'r') as f:\n",
    "    edge_tuple_list = [(x.split()[0], x.split()[1]) for x in f]"
   ]
  },
  {
   "cell_type": "code",
   "execution_count": 50,
   "metadata": {},
   "outputs": [],
   "source": [
    "G_followers.add_edges_from(edge_tuple_list)"
   ]
  },
  {
   "cell_type": "code",
   "execution_count": 51,
   "metadata": {},
   "outputs": [
    {
     "name": "stdout",
     "output_type": "stream",
     "text": [
      "Number of Nodes: 456626\n",
      "Number of Edges: 14855842\n"
     ]
    }
   ],
   "source": [
    "print(f\"Number of Nodes: {G_followers.number_of_nodes()}\")\n",
    "print(f\"Number of Edges: {G_followers.number_of_edges()}\")"
   ]
  },
  {
   "cell_type": "markdown",
   "metadata": {},
   "source": [
    "### Create graphs for retweet(RT), reply(RE), and mention(MT)"
   ]
  },
  {
   "cell_type": "code",
   "execution_count": 69,
   "metadata": {},
   "outputs": [],
   "source": [
    "# read in the activity data\n",
    "with open(activity_data_path, 'r') as f:\n",
    "    activity_tuple_list = [tuple(x.split()) for x in f]"
   ]
  },
  {
   "cell_type": "code",
   "execution_count": 80,
   "metadata": {},
   "outputs": [],
   "source": [
    "from collections import defaultdict\n",
    "activity_type_dict = defaultdict(list)"
   ]
  },
  {
   "cell_type": "code",
   "execution_count": 81,
   "metadata": {},
   "outputs": [],
   "source": [
    "for tup in activity_tuple_list:\n",
    "    activity_type_dict[tup[3]].append([tup[0], tup[1]])"
   ]
  },
  {
   "cell_type": "code",
   "execution_count": 82,
   "metadata": {},
   "outputs": [
    {
     "data": {
      "text/plain": [
       "dict_keys(['MT', 'RE', 'RT'])"
      ]
     },
     "execution_count": 82,
     "metadata": {},
     "output_type": "execute_result"
    }
   ],
   "source": [
    "activity_type_dict.keys()"
   ]
  },
  {
   "cell_type": "code",
   "execution_count": 88,
   "metadata": {},
   "outputs": [],
   "source": [
    "G_MT = nx.DiGraph()\n",
    "G_RE = nx.DiGraph()\n",
    "G_RT = nx.DiGraph()\n",
    "\n",
    "G_MT.add_edges_from(activity_type_dict['MT'])\n",
    "G_RE.add_edges_from(activity_type_dict['RE'])\n",
    "G_RT.add_edges_from(activity_type_dict['RT'])"
   ]
  },
  {
   "cell_type": "markdown",
   "metadata": {},
   "source": [
    "# Notes about data from source"
   ]
  },
  {
   "cell_type": "markdown",
   "metadata": {},
   "source": [
    "Data saved in `higgs-activity_time.txt (loaded into activity_data_path below)` has the format of `userA userB timestamp interaction`.\n",
    "\n",
    "> Interaction can be RT (retweet), MT (mention) or RE (reply). Each link is directed. The user IDs in this dataset corresponds to the ones adopted to anonymize the social structure, thus the datasets (1) - (5) can be used together for complex analysis involving structure and dynamics.\n",
    "\n",
    "The above is good info, we'll indeed use the user IDs to link things together after verifying that all the necessary users exist in all sources.\n",
    "\n",
    "> Note 1: the direction of links depends on the application, in general. For instance, if one is interested in building a network of how information flows, then the direction of RT should be reversed when used in the analysis. Nevertheless, the choice is left to the researcher and his/her own interpretation of the data, whereas we just provide the observed actions, i.e., who retweets/mentions/replies/follows whom.\n",
    "\n",
    "This I'm less sure about.  I have avoided twitter and only have a vague idea of how it works, but I _think_ I follow what's happening here.  I'm interpreting the data above to be \"userA retweeted userB\", for the case of RT.  I think this will be appropriate to answer the question here."
   ]
  },
  {
   "cell_type": "markdown",
   "metadata": {},
   "source": [
    "## Question 1: Which user had the most of each interaction type (retweet vs reply vs mention)?"
   ]
  },
  {
   "cell_type": "code",
   "execution_count": 175,
   "metadata": {},
   "outputs": [],
   "source": [
    "# handy function to get top users\n",
    "\n",
    "def get_top_users(G, degree='sum', n=10):\n",
    "    \"\"\"Returns top ``n`` users using ``degree`` counts\n",
    "    \n",
    "    Parameters\n",
    "    ---------\n",
    "    G: DiGraph\n",
    "        networkx DiGraph object\n",
    "    degree : str\n",
    "        either `sum`, `in`, or `out`.  Determines which degree count to use\n",
    "    n : int\n",
    "        number of users to return\n",
    "        \n",
    "    Returns\n",
    "    -------\n",
    "    list\n",
    "        Sorted list of users at the degree of their nodes with respect to ``degree`` type\n",
    "    \"\"\"\n",
    "    if degree == 'sum':\n",
    "        degree_collection = G.degree\n",
    "    elif degree == 'in':\n",
    "        degree_collection = G.in_degree\n",
    "    elif degree == 'out':\n",
    "        degree_collection = G.out_degree\n",
    "    else:\n",
    "        raise ValueError(\"Degree is not one of ['sum', 'in', 'out']\")\n",
    "        \n",
    "    return sorted(degree_collection, key=lambda x: x[1], reverse=True)[:n]"
   ]
  },
  {
   "cell_type": "markdown",
   "metadata": {},
   "source": [
    "With a DiGraph, the `.degree` [property is the sum of in-degree and out-degree of each node](https://networkx.github.io/documentation/stable/tutorial.html#directed-graphs).  I believe it fits in this case since we're looking at which users had the \"most of each interaction type\", which I'm interpreting to be either the user performed the action themselves (userA RT userB) or someone RT something of theirs (userB RT userA)"
   ]
  },
  {
   "cell_type": "markdown",
   "metadata": {},
   "source": [
    "Further note (mostly to myself), here is how I think the following should be interpreted:\n",
    "\n",
    "**Out-degree:** number of people user retweeted\n",
    "\n",
    "**In-degree:** number of retweets of a user's own tweets\n",
    "\n",
    "The following numbers seem to indicate that this could be likely.  For example, it's unlikely in the 7 day period this data was collected that user `88` themselves retweeted 14,060 different tweets, but it's far more likely that some of user `88`'s tweets were retweeted that many times."
   ]
  },
  {
   "cell_type": "code",
   "execution_count": 176,
   "metadata": {},
   "outputs": [
    {
     "data": {
      "text/plain": [
       "[('38535', 134),\n",
       " ('181190', 84),\n",
       " ('81405', 66),\n",
       " ('64911', 49),\n",
       " ('54301', 49),\n",
       " ('27705', 48),\n",
       " ('53508', 42),\n",
       " ('232850', 41),\n",
       " ('492', 38),\n",
       " ('62391', 38)]"
      ]
     },
     "execution_count": 176,
     "metadata": {},
     "output_type": "execute_result"
    }
   ],
   "source": [
    "get_top_users(G_RT, degree='out')"
   ]
  },
  {
   "cell_type": "code",
   "execution_count": 177,
   "metadata": {},
   "outputs": [
    {
     "data": {
      "text/plain": [
       "[('88', 14060),\n",
       " ('14454', 6190),\n",
       " ('677', 5613),\n",
       " ('1988', 4335),\n",
       " ('349', 2802),\n",
       " ('283', 2039),\n",
       " ('3571', 1980),\n",
       " ('6948', 1959),\n",
       " ('14572', 1692),\n",
       " ('68278', 1689)]"
      ]
     },
     "execution_count": 177,
     "metadata": {},
     "output_type": "execute_result"
    }
   ],
   "source": [
    "get_top_users(G_RT, degree='in')"
   ]
  },
  {
   "cell_type": "markdown",
   "metadata": {},
   "source": [
    "### Top 10 users by mention (MT)"
   ]
  },
  {
   "cell_type": "code",
   "execution_count": 178,
   "metadata": {},
   "outputs": [
    {
     "data": {
      "text/plain": [
       "[('88', 11960),\n",
       " ('677', 3920),\n",
       " ('2417', 2538),\n",
       " ('59195', 1604),\n",
       " ('3998', 1592),\n",
       " ('7533', 1530),\n",
       " ('383', 1358),\n",
       " ('1988', 1191),\n",
       " ('13813', 1067),\n",
       " ('519', 805)]"
      ]
     },
     "execution_count": 178,
     "metadata": {},
     "output_type": "execute_result"
    }
   ],
   "source": [
    "get_top_users(G_MT, degree='sum')"
   ]
  },
  {
   "cell_type": "markdown",
   "metadata": {},
   "source": [
    "### Top users by reply (RE)"
   ]
  },
  {
   "cell_type": "code",
   "execution_count": 179,
   "metadata": {},
   "outputs": [
    {
     "data": {
      "text/plain": [
       "[('677', 1213),\n",
       " ('88', 1071),\n",
       " ('220', 470),\n",
       " ('3549', 219),\n",
       " ('317', 168),\n",
       " ('349', 144),\n",
       " ('1988', 105),\n",
       " ('7690', 102),\n",
       " ('3369', 92),\n",
       " ('16460', 83)]"
      ]
     },
     "execution_count": 179,
     "metadata": {},
     "output_type": "execute_result"
    }
   ],
   "source": [
    "get_top_users(G_RE, degree='sum')"
   ]
  },
  {
   "cell_type": "markdown",
   "metadata": {},
   "source": [
    "### Top users by retweet (RT)"
   ]
  },
  {
   "cell_type": "code",
   "execution_count": 180,
   "metadata": {},
   "outputs": [
    {
     "data": {
      "text/plain": [
       "[('88', 14063),\n",
       " ('14454', 6190),\n",
       " ('677', 5621),\n",
       " ('1988', 4337),\n",
       " ('349', 2803),\n",
       " ('283', 2039),\n",
       " ('3571', 1981),\n",
       " ('6948', 1959),\n",
       " ('14572', 1692),\n",
       " ('68278', 1689)]"
      ]
     },
     "execution_count": 180,
     "metadata": {},
     "output_type": "execute_result"
    }
   ],
   "source": [
    "get_top_users(G_RT, degree='sum')"
   ]
  },
  {
   "cell_type": "markdown",
   "metadata": {},
   "source": [
    "## Question 2: Who are the top five users with the highest ratio of retweets to followers?"
   ]
  },
  {
   "cell_type": "code",
   "execution_count": 192,
   "metadata": {},
   "outputs": [],
   "source": [
    "user_retweet_counts = dict(G_RT.in_degree)"
   ]
  },
  {
   "cell_type": "code",
   "execution_count": 193,
   "metadata": {},
   "outputs": [],
   "source": [
    "user_followers_counts = dict(G.in_degree)"
   ]
  },
  {
   "cell_type": "markdown",
   "metadata": {},
   "source": [
    "Before trying to calculate the ratio, do a quick sanity check on their counts"
   ]
  },
  {
   "cell_type": "code",
   "execution_count": 194,
   "metadata": {},
   "outputs": [
    {
     "name": "stdout",
     "output_type": "stream",
     "text": [
      "Number of users with retweets: 256491\n",
      "Number of users with followers: 456626\n"
     ]
    }
   ],
   "source": [
    "retweet_set = set(user_retweet_counts.keys())\n",
    "followers_set = set(user_followers_counts.keys())\n",
    "print(f\"Number of users with retweets: {len(a)}\")\n",
    "print(f\"Number of users with followers: {len(b)}\")"
   ]
  },
  {
   "cell_type": "markdown",
   "metadata": {},
   "source": [
    "It looks like not every user with a follower could have a retweet (which makes sense).  Are there any with retweets that don't have followers?"
   ]
  },
  {
   "cell_type": "code",
   "execution_count": 195,
   "metadata": {},
   "outputs": [
    {
     "data": {
      "text/plain": [
       "True"
      ]
     },
     "execution_count": 195,
     "metadata": {},
     "output_type": "execute_result"
    }
   ],
   "source": [
    "len(retweet_set) == len(retweet_set.intersection(followers_set))"
   ]
  },
  {
   "cell_type": "markdown",
   "metadata": {},
   "source": [
    "Alright, so now I feel confident we can calculate the ratio for all users with retweets"
   ]
  },
  {
   "cell_type": "code",
   "execution_count": 196,
   "metadata": {},
   "outputs": [],
   "source": [
    "ratio_counts = {user: user_retweet_counts[user] / user_followers_counts[user] for user in user_retweet_counts if user_followers_counts[user] != 0}"
   ]
  },
  {
   "cell_type": "code",
   "execution_count": 197,
   "metadata": {},
   "outputs": [
    {
     "data": {
      "text/plain": [
       "[('250519', 103.6),\n",
       " ('272834', 64.0),\n",
       " ('132690', 60.0),\n",
       " ('14454', 42.689655172413794),\n",
       " ('86851', 37.0),\n",
       " ('231650', 34.333333333333336),\n",
       " ('8135', 31.17241379310345),\n",
       " ('308781', 25.0),\n",
       " ('220468', 22.0),\n",
       " ('294416', 21.103448275862068)]"
      ]
     },
     "execution_count": 197,
     "metadata": {},
     "output_type": "execute_result"
    }
   ],
   "source": [
    "sorted(ratio_counts.items(), key=lambda x: x[1], reverse=True)[:10]"
   ]
  },
  {
   "cell_type": "markdown",
   "metadata": {},
   "source": [
    "Surprisingly, we only see the user `14454` in the top 5 in the list of retweeted people."
   ]
  },
  {
   "cell_type": "code",
   "execution_count": 189,
   "metadata": {},
   "outputs": [
    {
     "data": {
      "text/plain": [
       "145"
      ]
     },
     "execution_count": 189,
     "metadata": {},
     "output_type": "execute_result"
    }
   ],
   "source": [
    "dict(G.in_degree)['14454']"
   ]
  },
  {
   "cell_type": "code",
   "execution_count": 190,
   "metadata": {},
   "outputs": [
    {
     "data": {
      "text/plain": [
       "6190"
      ]
     },
     "execution_count": 190,
     "metadata": {},
     "output_type": "execute_result"
    }
   ],
   "source": [
    "dict(G_RT.in_degree)['14454']"
   ]
  },
  {
   "cell_type": "code",
   "execution_count": 191,
   "metadata": {},
   "outputs": [
    {
     "data": {
      "text/plain": [
       "35.371428571428574"
      ]
     },
     "execution_count": 191,
     "metadata": {},
     "output_type": "execute_result"
    }
   ],
   "source": [
    "6190 / 175"
   ]
  },
  {
   "cell_type": "code",
   "execution_count": null,
   "metadata": {},
   "outputs": [],
   "source": []
  }
 ],
 "metadata": {
  "kernelspec": {
   "display_name": "Python 3",
   "language": "python",
   "name": "python3"
  },
  "language_info": {
   "codemirror_mode": {
    "name": "ipython",
    "version": 3
   },
   "file_extension": ".py",
   "mimetype": "text/x-python",
   "name": "python",
   "nbconvert_exporter": "python",
   "pygments_lexer": "ipython3",
   "version": "3.6.6"
  }
 },
 "nbformat": 4,
 "nbformat_minor": 2
}
